{
 "cells": [
  {
   "cell_type": "code",
   "execution_count": 1,
   "metadata": {},
   "outputs": [],
   "source": [
    "import pandas as pd"
   ]
  },
  {
   "cell_type": "code",
   "execution_count": 7,
   "metadata": {},
   "outputs": [],
   "source": [
    "# Creating DataFrames\n",
    "# Create a DataFrame df1 with columns 'A' and 'B'\n",
    "df = pd.DataFrame({'A': [1, 2, 3], 'B': [4, 5, 6]})\n",
    "# Create a DataFrame df2 with columns 'A' and 'C'\n",
    "df2 = pd.DataFrame({'A': [1, 2], 'C': [7, 8]})\n"
   ]
  },
  {
   "cell_type": "code",
   "execution_count": 8,
   "metadata": {},
   "outputs": [
    {
     "name": "stdout",
     "output_type": "stream",
     "text": [
      "   A  B\n",
      "0  1  4\n",
      "1  2  5\n",
      "2  3  6\n",
      "   A  B\n",
      "0  1  4\n",
      "1  2  5\n",
      "2  3  6\n",
      "<class 'pandas.core.frame.DataFrame'>\n",
      "RangeIndex: 3 entries, 0 to 2\n",
      "Data columns (total 2 columns):\n",
      " #   Column  Non-Null Count  Dtype\n",
      "---  ------  --------------  -----\n",
      " 0   A       3 non-null      int64\n",
      " 1   B       3 non-null      int64\n",
      "dtypes: int64(2)\n",
      "memory usage: 180.0 bytes\n",
      "None\n",
      "         A    B\n",
      "count  3.0  3.0\n",
      "mean   2.0  5.0\n",
      "std    1.0  1.0\n",
      "min    1.0  4.0\n",
      "25%    1.5  4.5\n",
      "50%    2.0  5.0\n",
      "75%    2.5  5.5\n",
      "max    3.0  6.0\n"
     ]
    }
   ],
   "source": [
    "# Exploring Data\n",
    "# Display the first 5 rows of the DataFrame\n",
    "print(df.head())\n",
    "# Display the last 5 rows of the DataFrame\n",
    "print(df.tail())\n",
    "# Print a concise summary of the DataFrame\n",
    "print(df.info())\n",
    "# Generate descriptive statistics for numerical columns\n",
    "print(df.describe())\n"
   ]
  },
  {
   "cell_type": "code",
   "execution_count": null,
   "metadata": {},
   "outputs": [],
   "source": [
    "# Selecting Data\n",
    "# Select a single column ('A')\n",
    "print(df['A'])\n",
    "# Select multiple columns ('A' and 'B')\n",
    "print(df[['A', 'B']])\n",
    "# Select a specific row by index (using label-based indexing)\n",
    "print(df.loc[0])\n",
    "# Select specific rows and columns by position (using integer-based indexing)\n",
    "print(df.iloc[0:2, 0:2])"
   ]
  },
  {
   "cell_type": "code",
   "execution_count": null,
   "metadata": {},
   "outputs": [],
   "source": [
    "# Filtering Data\n",
    "# Filter rows where column 'A' is greater than 1\n",
    "print(df[df['A'] > 1])\n",
    "\n",
    "# Manipulating Data\n",
    "# Add a new column 'D' as the sum of columns 'A' and 'B'\n",
    "df['D'] = df['A'] + df['B']\n",
    "# Drop column 'D' from the DataFrame (in-place modification)\n",
    "df.drop('D', axis=1, inplace=True)\n",
    "# Rename column 'A' to 'Column_A'\n",
    "df.rename(columns={'A': 'Column_A'}, inplace=True)\n",
    "# Rename multiple columns\n",
    "df.rename(columns={'B': 'Column_B', 'C': 'Column_C'}, inplace=True)"
   ]
  },
  {
   "cell_type": "code",
   "execution_count": null,
   "metadata": {},
   "outputs": [],
   "source": [
    "# Renaming Rows\n",
    "# Rename specific rows by index\n",
    "df.rename(index={0: 'Row_1', 1: 'Row_2'}, inplace=True)\n",
    "\n",
    "# Handling Missing Data\n",
    "# Check for missing values in each column\n",
    "print(df.isnull().sum())\n",
    "# Fill missing values with 0\n",
    "df.fillna(0, inplace=True)\n",
    "\n",
    "# Grouping and Aggregating Data\n",
    "# Group by column 'A' and calculate the sum of other columns\n",
    "print(df.groupby('A').sum())\n",
    "# Group by column 'A' and calculate multiple aggregations\n",
    "print(df.groupby('A').agg({'B': ['sum', 'mean'], 'C': ['min', 'max']}))"
   ]
  },
  {
   "cell_type": "code",
   "execution_count": null,
   "metadata": {},
   "outputs": [],
   "source": [
    "# Merging and Joining DataFrames\n",
    "# Merge df1 and df2 on column 'A' (inner join)\n",
    "df_merged = pd.merge(df1, df2, on='A', how='inner') \n",
    "# Join df2 to df1 on column 'A' (left join)\n",
    "df_joined = df1.join(df2.set_index('A'), on='A', how='left')\n",
    "\n",
    "# Aggregating and Grouping Rows\n",
    "# Calculate the sum, mean, and count of rows grouped by column 'A'\n",
    "print(df.groupby('A').agg(['sum', 'mean', 'count']))"
   ]
  },
  {
   "cell_type": "code",
   "execution_count": null,
   "metadata": {},
   "outputs": [],
   "source": [
    "# Reshaping Data\n",
    "# Create a pivot table with 'A' as index, 'B' as columns, and 'C' as values (using sum as aggregation)\n",
    "df_pivot = df.pivot_table(index='A', columns='B', values='C', aggfunc='sum')\n",
    "# Melt the pivoted DataFrame back into long format\n",
    "df_melt = df_pivot.melt()"
   ]
  },
  {
   "cell_type": "code",
   "execution_count": null,
   "metadata": {},
   "outputs": [],
   "source": [
    "# Time Series Analysis\n",
    "# Convert a column 'date' to datetime format\n",
    "df['date'] = pd.to_datetime(df['date'])\n",
    "# Set the 'date' column as the index\n",
    "df.set_index('date', inplace=True)\n",
    "# Resample data to monthly frequency and calculate the sum\n",
    "print(df.resample('M').sum())"
   ]
  },
  {
   "cell_type": "code",
   "execution_count": null,
   "metadata": {},
   "outputs": [],
   "source": [
    "# Additional Common Pandas Operations\n",
    "\n",
    "# Sorting Data\n",
    "# Sort rows by column 'A' in ascending order\n",
    "sorted_df = df.sort_values(by='A', ascending=True)\n",
    "# Sort rows by column 'A' in descending order\n",
    "sorted_desc_df = df.sort_values(by='A', ascending=False)\n",
    "\n",
    "# Resetting Index\n",
    "# Reset the index of the DataFrame\n",
    "reset_df = df.reset_index()\n",
    "\n",
    "# Duplicates\n",
    "# Drop duplicate rows\n",
    "deduplicated_df = df.drop_duplicates()\n",
    "\n",
    "# Applying Functions\n",
    "# Apply a custom function to column 'A'\n",
    "df['A_squared'] = df['A'].apply(lambda x: x**2)"
   ]
  },
  {
   "cell_type": "code",
   "execution_count": null,
   "metadata": {},
   "outputs": [],
   "source": [
    "# String Operations\n",
    "# Convert a string column to lowercase\n",
    "df['string_column'] = df['string_column'].str.lower()\n",
    "\n",
    "# Saving to Other Formats\n",
    "# Save the DataFrame to an Excel file\n",
    "df.to_excel('output.xlsx', index=False)\n",
    "# Save the DataFrame to a JSON file\n",
    "df.to_json('output.json')\n"
   ]
  },
  {
   "cell_type": "code",
   "execution_count": null,
   "metadata": {},
   "outputs": [],
   "source": [
    "# Mathematical Operations\n",
    "# Calculate the sum of column 'A'\n",
    "print(df['A'].sum())\n",
    "# Calculate the mean (average) of column 'A'\n",
    "print(df['A'].mean())\n",
    "# Calculate the median of column 'A'\n",
    "print(df['A'].median())\n",
    "# Calculate the minimum value of column 'A'\n",
    "print(df['A'].min())\n",
    "# Calculate the maximum value of column 'A'\n",
    "print(df['A'].max())\n",
    "# Calculate the standard deviation of column 'A'\n",
    "print(df['A'].std())\n",
    "# Calculate the variance of column 'A'\n",
    "print(df['A'].var())\n",
    "# Count the non-NA/null entries in column 'A'\n",
    "print(df['A'].count())\n",
    "\n",
    "# Cumulative Operations\n",
    "# Calculate the cumulative sum of column 'A'\n",
    "print(df['A'].cumsum())\n",
    "# Calculate the cumulative product of column 'A'\n",
    "print(df['A'].cumprod())\n",
    "\n",
    "# Searching\n",
    "# Find the index of the first occurrence where column 'A' equals 2\n",
    "print(df[df['A'] == 2].index)\n",
    "\n",
    "# Aggregation\n",
    "# Aggregate multiple statistics for column 'A'\n",
    "print(df['A'].agg(['sum', 'mean', 'min', 'max']))"
   ]
  },
  {
   "cell_type": "code",
   "execution_count": null,
   "metadata": {},
   "outputs": [],
   "source": [
    "# Basic Plotting with Pandas\n",
    "import matplotlib.pyplot as plt\n",
    "# Plot a line graph of column 'A'\n",
    "df['A'].plot(kind='line', title='Line Plot of A')\n",
    "plt.show()\n",
    "# Plot a bar graph of column 'A'\n",
    "df['A'].plot(kind='bar', title='Bar Plot of A')\n",
    "plt.show()\n",
    "# Plot a histogram of column 'A'\n",
    "df['A'].plot(kind='hist', title='Histogram of A', bins=5)\n",
    "plt.show()"
   ]
  },
  {
   "cell_type": "code",
   "execution_count": null,
   "metadata": {},
   "outputs": [],
   "source": [
    "print(df.corr())\n",
    "# Calculate pairwise covariance of columns\n",
    "print(df.cov())\n",
    "\n",
    "# Random Sampling\n",
    "# Randomly sample 3 rows from the DataFrame\n",
    "sampled_df = df.sample(3)\n",
    "\n",
    "# Boolean Indexing\n",
    "# Filter rows where 'A' is greater than 10 and 'B' is less than 5\n",
    "filtered_df = df[(df['A'] > 10) & (df['B'] < 5)]\n",
    "\n",
    "# Rolling and Expanding\n",
    "# Calculate a rolling mean with a window size of 3\n",
    "rolling_mean = df['A'].rolling(window=3).mean()\n",
    "# Calculate an expanding sum\n",
    "expanding_sum = df['A'].expanding(min_periods=1).sum()\n",
    "\n",
    "# Combining DataFrames\n",
    "# Concatenate two DataFrames vertically\n",
    "df_combined = pd.concat([df1, df2], axis=0)\n",
    "# Concatenate two DataFrames horizontally\n",
    "df_combined_horiz = pd.concat([df1, df2], axis=1)"
   ]
  }
 ],
 "metadata": {
  "kernelspec": {
   "display_name": "Python 3",
   "language": "python",
   "name": "python3"
  },
  "language_info": {
   "codemirror_mode": {
    "name": "ipython",
    "version": 3
   },
   "file_extension": ".py",
   "mimetype": "text/x-python",
   "name": "python",
   "nbconvert_exporter": "python",
   "pygments_lexer": "ipython3",
   "version": "3.13.1"
  }
 },
 "nbformat": 4,
 "nbformat_minor": 2
}
