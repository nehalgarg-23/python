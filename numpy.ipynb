{
 "cells": [
  {
   "cell_type": "code",
   "execution_count": 3,
   "metadata": {},
   "outputs": [],
   "source": [
    "import numpy as np"
   ]
  },
  {
   "cell_type": "code",
   "execution_count": 3,
   "metadata": {},
   "outputs": [
    {
     "data": {
      "text/plain": [
       "array([73, 67, 43])"
      ]
     },
     "execution_count": 3,
     "metadata": {},
     "output_type": "execute_result"
    }
   ],
   "source": [
    "k = np.array([73, 67, 43])\n",
    "k"
   ]
  },
  {
   "cell_type": "code",
   "execution_count": 6,
   "metadata": {},
   "outputs": [
    {
     "data": {
      "text/plain": [
       "array([0.3, 0.2, 0.6])"
      ]
     },
     "execution_count": 6,
     "metadata": {},
     "output_type": "execute_result"
    }
   ],
   "source": [
    "w1=0.3\n",
    "w2= 0.2\n",
    "w3=0.6\n",
    "weights = np.array([w1, w2, w3])\n",
    "weights"
   ]
  },
  {
   "cell_type": "code",
   "execution_count": 9,
   "metadata": {},
   "outputs": [
    {
     "data": {
      "text/plain": [
       "numpy.ndarray"
      ]
     },
     "execution_count": 9,
     "metadata": {},
     "output_type": "execute_result"
    }
   ],
   "source": [
    "type(weights)"
   ]
  },
  {
   "cell_type": "code",
   "execution_count": 10,
   "metadata": {},
   "outputs": [
    {
     "data": {
      "text/plain": [
       "np.float64(61.099999999999994)"
      ]
     },
     "execution_count": 10,
     "metadata": {},
     "output_type": "execute_result"
    }
   ],
   "source": [
    "np.dot(k, weights)\n",
    "(k*weights).sum()"
   ]
  },
  {
   "cell_type": "code",
   "execution_count": 14,
   "metadata": {},
   "outputs": [],
   "source": [
    "#lists \n",
    "arr1= list(range(100000))\n",
    "arr2= list(range(100000, 200000))"
   ]
  },
  {
   "cell_type": "code",
   "execution_count": null,
   "metadata": {},
   "outputs": [
    {
     "name": "stdout",
     "output_type": "stream",
     "text": [
      "19999900000\n",
      "CPU times: total: 46.9 ms\n",
      "Wall time: 446 ms\n"
     ]
    }
   ],
   "source": [
    "%%time\n",
    "result = 0\n",
    "for x1, x2 in zip(arr1, arr2):\n",
    "    result += x1 + x2\n",
    "print(result) \n"
   ]
  },
  {
   "cell_type": "code",
   "execution_count": 17,
   "metadata": {},
   "outputs": [
    {
     "name": "stdout",
     "output_type": "stream",
     "text": [
      "CPU times: total: 15.6 ms\n",
      "Wall time: 36 ms\n"
     ]
    },
    {
     "data": {
      "text/plain": [
       "np.int64(833323333350000)"
      ]
     },
     "execution_count": 17,
     "metadata": {},
     "output_type": "execute_result"
    }
   ],
   "source": [
    "%%time\n",
    "np.dot(arr1, arr2)"
   ]
  },
  {
   "cell_type": "code",
   "execution_count": 19,
   "metadata": {},
   "outputs": [
    {
     "data": {
      "text/plain": [
       "array([[23, 24, 25],\n",
       "       [11, 15, 13],\n",
       "       [ 4,  8,  9],\n",
       "       [90, 96, 82]])"
      ]
     },
     "execution_count": 19,
     "metadata": {},
     "output_type": "execute_result"
    }
   ],
   "source": [
    "climate_data = np.array([[23, 24, 25], \n",
    "                         [11, 15, 13],\n",
    "                         [4, 8, 9],\n",
    "                         [90, 96, 82]])\n",
    "#delimiter=, or : --- reprsets how the data us sepetrated\n",
    "#skip_header=1, 2for not counting the heaidngs for each column\n",
    "climate_data"
   ]
  },
  {
   "cell_type": "code",
   "execution_count": 24,
   "metadata": {},
   "outputs": [
    {
     "name": "stdout",
     "output_type": "stream",
     "text": [
      "[26.7 14.1  8.2 95.4]\n"
     ]
    },
    {
     "data": {
      "text/plain": [
       "(4,)"
      ]
     },
     "execution_count": 24,
     "metadata": {},
     "output_type": "execute_result"
    }
   ],
   "source": [
    "yields = climate_data@weights\n",
    "print(yields)\n",
    "yields.shape"
   ]
  },
  {
   "cell_type": "code",
   "execution_count": 30,
   "metadata": {},
   "outputs": [],
   "source": [
    "np.savetxt('climate_data.txt', climate_data, fmt='%.02f', header= 'temp, rain, yeild_apples')"
   ]
  },
  {
   "cell_type": "markdown",
   "metadata": {},
   "source": [
    "operations are:\n",
    "np.sum\n",
    "np.exp\n",
    "np.round\n",
    "np.reshape\n",
    "np.stack\n",
    "np.concantete\n",
    "np.split\n",
    "np.dot\n",
    "np.transpose\n",
    "np.eigvals\n",
    "np.mean\n",
    "np.median\n",
    "np.std\n",
    "np.max"
   ]
  },
  {
   "cell_type": "markdown",
   "metadata": {},
   "source": [
    "ARTIHEMTAIC OPERATIONS:"
   ]
  },
  {
   "cell_type": "code",
   "execution_count": 4,
   "metadata": {},
   "outputs": [],
   "source": [
    "arr1= np.array([[1, 2, 3, 4], [5,6,7,8], [9, 10, 11,12]])\n",
    "arr2= np.array([[10, 20, 30, 47], [51,62,74,85], [91, 103, 19,10]])"
   ]
  },
  {
   "cell_type": "code",
   "execution_count": 5,
   "metadata": {},
   "outputs": [
    {
     "name": "stdout",
     "output_type": "stream",
     "text": [
      "[[ 11  22  33  51]\n",
      " [ 56  68  81  93]\n",
      " [100 113  30  22]]\n",
      "[[ 4  5  6  7]\n",
      " [ 8  9 10 11]\n",
      " [12 13 14 15]]\n",
      "[[ 5.  10.  15.  23.5]\n",
      " [25.5 31.  37.  42.5]\n",
      " [45.5 51.5  9.5  5. ]]\n"
     ]
    },
    {
     "data": {
      "text/plain": [
       "(3, 4)"
      ]
     },
     "execution_count": 5,
     "metadata": {},
     "output_type": "execute_result"
    }
   ],
   "source": [
    "print(arr1+ arr2)\n",
    "print(arr1+3)\n",
    "print(arr2/2)\n",
    "arr1.shape"
   ]
  },
  {
   "cell_type": "code",
   "execution_count": 6,
   "metadata": {},
   "outputs": [
    {
     "name": "stdout",
     "output_type": "stream",
     "text": [
      "Sum of arr1 and arr2: [5 7 9]\n"
     ]
    }
   ],
   "source": [
    "import numpy as np\n",
    "\n",
    "# Define two arrays\n",
    "arr1 = np.array([1, 2, 3])\n",
    "arr2 = np.array([4, 5, 6])\n",
    "\n",
    "# Calculate their sum\n",
    "result = arr1 + arr2\n",
    "\n",
    "# Print the result\n",
    "print(\"Sum of arr1 and arr2:\", result)\n"
   ]
  },
  {
   "cell_type": "markdown",
   "metadata": {},
   "source": [
    "replication is  possible if one of  numbemr of shape matches any dimensions \n",
    "arr.shape"
   ]
  },
  {
   "cell_type": "code",
   "execution_count": 18,
   "metadata": {},
   "outputs": [
    {
     "name": "stdout",
     "output_type": "stream",
     "text": [
      "[[False False False False]\n",
      " [False False False False]\n",
      " [False False False False]]\n",
      "[[ True  True  True  True]\n",
      " [ True  True  True  True]\n",
      " [ True  True  True False]]\n"
     ]
    },
    {
     "data": {
      "text/plain": [
       "dtype('bool')"
      ]
     },
     "execution_count": 18,
     "metadata": {},
     "output_type": "execute_result"
    }
   ],
   "source": [
    "print(arr1==arr2)\n",
    "print(arr1<=arr2)\n",
    "(arr1==arr2).dtype"
   ]
  },
  {
   "cell_type": "code",
   "execution_count": 9,
   "metadata": {},
   "outputs": [
    {
     "data": {
      "text/plain": [
       "(3, 3, 3)"
      ]
     },
     "execution_count": 9,
     "metadata": {},
     "output_type": "execute_result"
    }
   ],
   "source": [
    "arr3 = np.array([\n",
    "    [[1, 2, 3], [4, 5, 6], [7, 8, 9]], \n",
    "    [[10, 11, 12], [13, 14, 15], [16, 17, 18]],  \n",
    "    [[19, 20, 21], [22, 23, 24], [25, 26, 27]]  \n",
    "    \n",
    "])\n",
    "arr3.shape\n",
    "#it is 0 indexing"
   ]
  },
  {
   "cell_type": "code",
   "execution_count": 12,
   "metadata": {},
   "outputs": [
    {
     "name": "stdout",
     "output_type": "stream",
     "text": [
      "Accessed Element: 17\n",
      "Accessed Range of Elements: [[13 14 15]]\n"
     ]
    }
   ],
   "source": [
    "element = arr3d[1, 2, 1] \n",
    "print(\"Accessed Element:\", element)\n",
    "\n",
    "range_elements = arr3d[1, 1:2, :]\n",
    "print(\"Accessed Range of Elements:\", range_elements)\n"
   ]
  },
  {
   "cell_type": "code",
   "execution_count": 17,
   "metadata": {},
   "outputs": [
    {
     "name": "stdout",
     "output_type": "stream",
     "text": [
      "[[0. 0.]\n",
      " [0. 0.]\n",
      " [0. 0.]]\n",
      " \n",
      "[[[1. 1.]\n",
      "  [1. 1.]\n",
      "  [1. 1.]]\n",
      "\n",
      " [[1. 1.]\n",
      "  [1. 1.]\n",
      "  [1. 1.]]]\n",
      " \n",
      "[[1. 0. 0.]\n",
      " [0. 1. 0.]\n",
      " [0. 0. 1.]]\n"
     ]
    }
   ],
   "source": [
    "print(np.zeros((3,2)))\n",
    "print(\" \")\n",
    "print(np.ones((2,3,2)))\n",
    "print(\" \")\n",
    "print(np.eye(3))\n",
    "\n"
   ]
  },
  {
   "cell_type": "code",
   "execution_count": 19,
   "metadata": {},
   "outputs": [
    {
     "name": "stdout",
     "output_type": "stream",
     "text": [
      "[0.48879938 0.63677045 0.48923183 0.18015575 0.46251958]\n"
     ]
    }
   ],
   "source": [
    "random_numbers = np.random.rand(5)\n",
    "print(random_numbers)"
   ]
  },
  {
   "cell_type": "code",
   "execution_count": 28,
   "metadata": {},
   "outputs": [
    {
     "name": "stdout",
     "output_type": "stream",
     "text": [
      "[[23 23 23]\n",
      " [23 23 23]]\n",
      "[10 13 16 19 22 25 28 31 34 37 40 43 46 49 52 55 58 61 64 67 70 73 76 79\n",
      " 82 85 88]\n",
      "[[[10 13 16]\n",
      "  [19 22 25]\n",
      "  [28 31 34]]\n",
      "\n",
      " [[37 40 43]\n",
      "  [46 49 52]\n",
      "  [55 58 61]]\n",
      "\n",
      " [[64 67 70]\n",
      "  [73 76 79]\n",
      "  [82 85 88]]]\n",
      "[ 3.   7.8 12.6 17.4 22.2 27. ]\n"
     ]
    }
   ],
   "source": [
    "##fixed value \n",
    "print(np.full([2,3], 23))\n",
    "\n",
    "#range with start stop and step of the range\n",
    "print(np.arange(10, 90, 3))\n",
    "np.arange(10, 90, 3).shape\n",
    "print(np.arange(10, 90, 3).reshape(3,3,3))\n",
    "\n",
    "#equally spaced\n",
    "print(np.linspace(3, 27,6))\n"
   ]
  },
  {
   "cell_type": "code",
   "execution_count": null,
   "metadata": {},
   "outputs": [],
   "source": []
  },
  {
   "cell_type": "markdown",
   "id": "20ad2710",
   "metadata": {},
   "source": [
    "### Advanced NumPy Examples"
   ]
  },
  {
   "cell_type": "markdown",
   "id": "80efb31f",
   "metadata": {},
   "source": [
    "#### Element-wise Functions"
   ]
  },
  {
   "cell_type": "code",
   "execution_count": null,
   "id": "050f5447",
   "metadata": {},
   "outputs": [],
   "source": [
    "\n",
    "# Element-wise mathematical operations\n",
    "arr = np.array([1, 4, 9, 16, 25])\n",
    "print(\"Square Root:\", np.sqrt(arr))\n",
    "print(\"Logarithm:\", np.log(arr))\n",
    "print(\"Sine:\", np.sin(arr))\n",
    "    "
   ]
  },
  {
   "cell_type": "markdown",
   "id": "7ddf685a",
   "metadata": {},
   "source": [
    "#### Aggregate Functions"
   ]
  },
  {
   "cell_type": "code",
   "execution_count": null,
   "id": "c8ffa97c",
   "metadata": {},
   "outputs": [],
   "source": [
    "\n",
    "# Aggregate operations on an array\n",
    "arr = np.array([[1, 2, 3], [4, 5, 6], [7, 8, 9]])\n",
    "print(\"Sum:\", np.sum(arr))\n",
    "print(\"Mean:\", np.mean(arr))\n",
    "print(\"Standard Deviation:\", np.std(arr))\n",
    "print(\"Max Element:\", np.max(arr))\n",
    "print(\"Index of Max Element:\", np.argmax(arr))\n",
    "    "
   ]
  },
  {
   "cell_type": "markdown",
   "id": "66be5658",
   "metadata": {},
   "source": [
    "#### Sorting and Searching"
   ]
  },
  {
   "cell_type": "code",
   "execution_count": null,
   "id": "4dd17954",
   "metadata": {},
   "outputs": [],
   "source": [
    "\n",
    "# Sorting and searching in arrays\n",
    "arr = np.array([10, 5, 8, 1, 3])\n",
    "print(\"Sorted Array:\", np.sort(arr))\n",
    "print(\"Indices of Sorted Elements:\", np.argsort(arr))\n",
    "print(\"Indices where value > 5:\", np.where(arr > 5))\n",
    "    "
   ]
  },
  {
   "cell_type": "markdown",
   "id": "43dcb6e0",
   "metadata": {},
   "source": [
    "#### Linear Algebra"
   ]
  },
  {
   "cell_type": "code",
   "execution_count": null,
   "id": "31957814",
   "metadata": {},
   "outputs": [],
   "source": [
    "\n",
    "# Linear algebra operations\n",
    "matrix = np.array([[4, 2], [3, 1]])\n",
    "print(\"Determinant:\", np.linalg.det(matrix))\n",
    "eigenvalues, eigenvectors = np.linalg.eig(matrix)\n",
    "print(\"Eigenvalues:\", eigenvalues)\n",
    "print(\"Eigenvectors:\", eigenvectors)\n",
    "    "
   ]
  },
  {
   "cell_type": "markdown",
   "id": "0a94ea20",
   "metadata": {},
   "source": [
    "#### Random Sampling"
   ]
  },
  {
   "cell_type": "code",
   "execution_count": null,
   "id": "39bc75cf",
   "metadata": {},
   "outputs": [],
   "source": [
    "\n",
    "# Generating random numbers\n",
    "print(\"Random Integers:\", np.random.randint(1, 10, size=5))\n",
    "print(\"Random Normal Distribution:\", np.random.normal(0, 1, size=5))\n",
    "print(\"Random Choice:\", np.random.choice([10, 20, 30, 40], size=3))\n",
    "    "
   ]
  },
  {
   "cell_type": "markdown",
   "id": "1f984cdd",
   "metadata": {},
   "source": [
    "#### Statistical Operations"
   ]
  },
  {
   "cell_type": "code",
   "execution_count": null,
   "id": "d6b3a1a7",
   "metadata": {},
   "outputs": [],
   "source": [
    "\n",
    "# Statistical operations\n",
    "arr = np.array([10, 20, 30, 40, 50])\n",
    "print(\"Variance:\", np.var(arr))\n",
    "print(\"25th Percentile:\", np.percentile(arr, 25))\n",
    "print(\"Median:\", np.median(arr))\n",
    "    "
   ]
  },
  {
   "cell_type": "markdown",
   "id": "d535430a",
   "metadata": {},
   "source": [
    "#### Practical Example: Data Normalization"
   ]
  },
  {
   "cell_type": "code",
   "execution_count": null,
   "id": "961216a3",
   "metadata": {},
   "outputs": [],
   "source": [
    "\n",
    "# Data normalization example\n",
    "data = np.array([50, 20, 30, 80, 100])\n",
    "normalized_data = (data - np.min(data)) / (np.max(data) - np.min(data))\n",
    "print(\"Normalized Data:\", normalized_data)\n",
    "    "
   ]
  },
  {
   "cell_type": "markdown",
   "id": "ee8c93ea",
   "metadata": {},
   "source": [
    "#### Practical Example: Monte Carlo Simulation"
   ]
  },
  {
   "cell_type": "code",
   "execution_count": null,
   "id": "c3e68a9f",
   "metadata": {},
   "outputs": [],
   "source": [
    "\n",
    "# Monte Carlo simulation to estimate the value of pi\n",
    "num_points = 10000\n",
    "x = np.random.rand(num_points)\n",
    "y = np.random.rand(num_points)\n",
    "inside_circle = (x**2 + y**2) <= 1\n",
    "pi_estimate = (np.sum(inside_circle) / num_points) * 4\n",
    "print(\"Estimated Value of Pi:\", pi_estimate)\n",
    "    "
   ]
  }
 ],
 "metadata": {
  "kernelspec": {
   "display_name": "Python 3",
   "language": "python",
   "name": "python3"
  },
  "language_info": {
   "codemirror_mode": {
    "name": "ipython",
    "version": 3
   },
   "file_extension": ".py",
   "mimetype": "text/x-python",
   "name": "python",
   "nbconvert_exporter": "python",
   "pygments_lexer": "ipython3",
   "version": "3.13.1"
  }
 },
 "nbformat": 4,
 "nbformat_minor": 2
}
